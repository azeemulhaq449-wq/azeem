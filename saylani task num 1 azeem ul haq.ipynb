{
 "cells": [
  {
   "cell_type": "markdown",
   "id": "5ee059f4-1832-4f94-a758-56d0263accc9",
   "metadata": {},
   "source": [
    "##### For Loops and Conditional Logic:\n",
    "1. Count Digits, Letters, and Special Characters\n",
    "\n",
    "Ask the user to enter a string. Count how many letters, digits, and special characters it has."
   ]
  },
  {
   "cell_type": "code",
   "execution_count": null,
   "id": "94e74dd4-6fbf-48e8-b894-949e7af36312",
   "metadata": {},
   "outputs": [],
   "source": [
    "user = input(\"\")\n",
    "letters = 0\n",
    "digits = 0\n",
    "special_chars = 0\n",
    "for a in user:\n",
    "    if a.isalpha():\n",
    "        letters += 1\n",
    "    elif a.isdigit():\n",
    "        digits += 1\n",
    "    else:\n",
    "        special_chars += 1\n",
    "print(\"Letters\", letters)\n",
    "print(\"Digits\", digits)\n",
    "print(\"Special Characters\", special_chars)"
   ]
  },
  {
   "cell_type": "markdown",
   "id": "5511cac8-86db-47a6-a3dc-164a96322d18",
   "metadata": {},
   "source": [
    "#### For Loops and Conditional Logic:\n",
    "2. Numbers Divisible by 4 or 6 (But Not Both)\n",
    "\n",
    "Input a range (start, end) and print numbers divisible by 4 or 6 — but not both.\n",
    "\n",
    "Hint: use logical operators and, or, not.\n",
    "\n",
    "Example:\n",
    "\n",
    "Input → 1, 30\n",
    "\n",
    "Output → 4, 6, 8, 16, 18, 20, 28, 30"
   ]
  },
  {
   "cell_type": "code",
   "execution_count": null,
   "id": "4ef87e44-07cb-4694-84c6-e229af5c48bf",
   "metadata": {},
   "outputs": [],
   "source": [
    "#####   For Loops and Conditional Logic:\n",
    "user_1 = int(input(\"enter a number: \"))\n",
    "user_2 = int(input(\"enter a number: \"))\n",
    "print(user_1,user_2)\n",
    "for a in range(user_1,user_2,+1):\n",
    "    if (a % 4 == 0 or a % 6 == 0) and a % 12 != 0:\n",
    "        print(a, end=' ')"
   ]
  },
  {
   "cell_type": "markdown",
   "id": "aa101150-ea10-423d-8bdc-8be36f54fa44",
   "metadata": {},
   "source": [
    "#####For Loops and Conditional Logic:\n",
    "3. Count Uppercase and Lowercase Letters\n",
    "\n",
    "Input a sentence and count how many characters are uppercase and lowercase.\n",
    "\n",
    "Hint: use isupper() and islower().\n",
    "\n"
   ]
  },
  {
   "cell_type": "code",
   "execution_count": null,
   "id": "86e7ad21-9552-4c0c-b31c-b437dfba4b13",
   "metadata": {},
   "outputs": [],
   "source": [
    "user = input(\"\")\n",
    "up_count = 0\n",
    "lo_count = 0\n",
    "for a in user:\n",
    "    if a.isupper():\n",
    "        up_count +=1\n",
    "    elif a.islower():\n",
    "        lo_count +=1\n",
    "print(f\"Capital letters,{up_count}\")\n",
    "print(f\"Small letters,{lo_count}\")"
   ]
  },
  {
   "cell_type": "markdown",
   "id": "b6f2ea2e-94fa-42c9-a504-c24eebdb0b6d",
   "metadata": {},
   "source": [
    "#### For Loops and Conditional Logic:\n",
    "\n",
    "4. Replace Vowels with ‘*’\n",
    "\n",
    "Ask for a word and print it again, but every vowel (a, e, i, o, u) should be replaced with *.\n",
    "\n",
    "Example: \"education\" → \"d*c*t*n\"\n",
    "\n",
    "\n",
    "\n",
    "\n"
   ]
  },
  {
   "cell_type": "code",
   "execution_count": 23,
   "id": "a23c9525-304c-42fb-9ce4-4b77923c2e50",
   "metadata": {},
   "outputs": [
    {
     "name": "stdin",
     "output_type": "stream",
     "text": [
      "enter aney llatters abcdefghiKLMNOPQRSTUVWX\n"
     ]
    },
    {
     "name": "stdout",
     "output_type": "stream",
     "text": [
      "anwser *bcd*fgh*KLMN*PQRST*VWX\n"
     ]
    }
   ],
   "source": [
    "    \n",
    "word = input(\"enter aney llatters\")\n",
    "vowels = \"aeiouAEIOU\"\n",
    "new_word = \"\"\n",
    "\n",
    "for a in word:\n",
    "    if a in vowels:\n",
    "        new_word += \"*\"\n",
    "    else:\n",
    "        new_word += a\n",
    "\n",
    "print(\"anwser\", new_word)\n"
   ]
  },
  {
   "cell_type": "code",
   "execution_count": 26,
   "id": "8bd1bbb2-5c76-4fa3-9059-03934ae732c4",
   "metadata": {},
   "outputs": [
    {
     "name": "stdin",
     "output_type": "stream",
     "text": [
      "enter a letters  dfghjkl;l6r5w2345678\n"
     ]
    },
    {
     "name": "stdout",
     "output_type": "stream",
     "text": [
      "user 46\n"
     ]
    }
   ],
   "source": [
    "#For Loops and Conditional Logic:\n",
    "\n",
    "#5. Find Sum of Numbers Entered in a String\n",
    "\n",
    "#Input a string that contains letters and numbers mixed (like \"a1b2c3\") and find the sum of digits inside it.\n",
    "\n",
    "user = (input(\"enter a letters \"))\n",
    "\n",
    "total = 0\n",
    "for a in user:\n",
    "    if a.isdigit():\n",
    "        total += int(a)\n",
    "\n",
    "print(\"user\", total)"
   ]
  },
  {
   "cell_type": "code",
   "execution_count": null,
   "id": "4efb9784-1817-44b0-b2c9-f0e58b150b2a",
   "metadata": {},
   "outputs": [],
   "source": []
  },
  {
   "cell_type": "code",
   "execution_count": 29,
   "id": "f77bc2c8-d256-40c5-911b-9f68a7f32936",
   "metadata": {},
   "outputs": [
    {
     "name": "stdin",
     "output_type": "stream",
     "text": [
      "Enter a sentence:  azeem An apple is on the table\n"
     ]
    },
    {
     "name": "stdout",
     "output_type": "stream",
     "text": [
      "Vowel words: 5\n"
     ]
    }
   ],
   "source": [
    "#For Loops and Conditional Logic:\n",
    "\n",
    "#6. Count Words Starting with a Vowel\n",
    "\n",
    "#Input a sentence and count how many words begin with a vowel.\n",
    "\n",
    "#Example: \"An apple is on the table\" → 3\n",
    "\n",
    "sentence = input(\"Enter a sentence: \")\n",
    "vowels = \"aeiou\"\n",
    "count = 0\n",
    "\n",
    "words = sentence.split()\n",
    "\n",
    "for word in words:\n",
    "    if word and word[0].lower() in vowels:\n",
    "        count += 1\n",
    "\n",
    "print(\"Vowel words:\", count)\n"
   ]
  },
  {
   "cell_type": "code",
   "execution_count": 20,
   "id": "e591888b-66a6-42da-9745-57d94d6c0073",
   "metadata": {},
   "outputs": [
    {
     "name": "stdin",
     "output_type": "stream",
     "text": [
      "Shuru ka number dijiye:  10\n",
      "Akhri number dijiye:  20\n"
     ]
    },
    {
     "name": "stdout",
     "output_type": "stream",
     "text": [
      "0\n"
     ]
    }
   ],
   "source": [
    "####  For Loops and Conditional Logic:\n",
    "#7. Display Numbers with Sum of Digits Even\n",
    "\n",
    "#Ask for a range (start, end) and print only those numbers whose sum of digits is even.\n",
    "\n",
    "#Example: Between 10–30 → prints numbers like 11 (1+1=2), 13 (1+3=4), etc.\n",
    "\n",
    "\n",
    "start = int(input(\"Shuru ka number dijiye: \"))\n",
    "end = int(input(\"Akhri number dijiye: \"))\n",
    "print(a)\n",
    "for a in range( +1):\n",
    "    digit_sum = sum(int(d) for d in str(num))\n",
    "    if digit_sum % 2 == 0:\n",
    "        print(d, end=' ')"
   ]
  },
  {
   "cell_type": "code",
   "execution_count": 26,
   "id": "a2084f60-90aa-4d4a-ac34-0d7bfb3337f8",
   "metadata": {},
   "outputs": [
    {
     "name": "stdin",
     "output_type": "stream",
     "text": [
      "Koi string likhein:  rrfhjnnnjj\n"
     ]
    },
    {
     "name": "stdout",
     "output_type": "stream",
     "text": [
      "f: 1\n",
      "h: 1\n",
      "j: 3\n",
      "n: 3\n",
      "r: 2\n"
     ]
    }
   ],
   "source": [
    "####  For Loops and Conditional Logic:\n",
    "#8. Character Frequency (Sorted)\n",
    "\n",
    "#Input a string and print each unique character with its count, sorted alphabetically.\n",
    "text = input(\"Koi string likhein: \")\n",
    "\n",
    "freq = {}\n",
    "\n",
    "for a in text:\n",
    "    if a.isalpha():\n",
    "        freq[a] = freq.get(a, 0) + 1\n",
    "\n",
    "for ch in sorted(freq):\n",
    "    print(f\"{ch}: {freq[ch]}\")"
   ]
  },
  {
   "cell_type": "code",
   "execution_count": 34,
   "id": "e058783e-7f8f-4961-90dc-7c949d013503",
   "metadata": {},
   "outputs": [
    {
     "name": "stdin",
     "output_type": "stream",
     "text": [
      "fst:  1\n",
      "2nd:  20\n"
     ]
    },
    {
     "name": "stdout",
     "output_type": "stream",
     "text": [
      "Woh numbers jinmein '3' mojood hai:\n",
      "3 13 "
     ]
    }
   ],
   "source": [
    "#### For Loops and Conditional Logic:\n",
    "#9. Numbers Having 3 as a Digit\n",
    "#Ask the user for start and end, and print all numbers that contain the digit 3.\n",
    "start = int(input(\"fst: \"))\n",
    "end = int(input(\"2nd: \"))\n",
    "\n",
    "print(\"Woh numbers jinmein '3' mojood hai:\")\n",
    "\n",
    "for a in range(start, end +1):\n",
    "    if '3' in str(a):\n",
    "        print(a, end=' ')\n",
    "\n"
   ]
  },
  {
   "cell_type": "code",
   "execution_count": 36,
   "id": "d60359d3-8ea0-4210-82f4-fdd55298d90c",
   "metadata": {},
   "outputs": [
    {
     "name": "stdin",
     "output_type": "stream",
     "text": [
      "fst:  1\n",
      "2nd :  100\n"
     ]
    },
    {
     "name": "stdout",
     "output_type": "stream",
     "text": [
      "Woh numbers jo 4 ya 6 se divide hote hain (magar dono se nahi),\n",
      "jin ka digit sum odd hai, aur jo 9 se divide nahi hote:\n",
      "16 30 32 52 56 76 78 92 100 "
     ]
    }
   ],
   "source": [
    "### For Loops and Conditional Logic:\n",
    "\n",
    "#10. Complex Divisibility with Digit Logic\n",
    "\n",
    "#Ask the user for two integers: start and end.\n",
    "\n",
    "#Using a for loop, print all numbers in that range that satisfy all these conditions:\n",
    "\n",
    "#The number is divisible by 4 or 6 (but not both)\n",
    "#The sum of its digits is odd\n",
    "#The number is not divisible by 9\n",
    "start = int(input(\"fst: \"))\n",
    "end = int(input(\"2nd : \"))\n",
    "\n",
    "print(\"Woh numbers jo 4 ya 6 se divide hote hain (magar dono se nahi),\")\n",
    "print(\"jin ka digit sum odd hai, aur jo 9 se divide nahi hote:\")\n",
    "\n",
    "for num in range(start, end + 1):\n",
    "    divisible = (num % 4 == 0 or num % 6 == 0) and num % 12 != 0\n",
    "    digit_sum = sum(int(d) for d in str(num))\n",
    "    is_odd = digit_sum % 2 != 0\n",
    "    not_div_9 = num % 9 != 0 \n",
    "\n",
    "    if divisible and is_odd and not_div_9:\n",
    "        print(num, end=' ') "
   ]
  },
  {
   "cell_type": "code",
   "execution_count": null,
   "id": "cf1a3204-f089-4e5c-9c53-dbb45daecab1",
   "metadata": {},
   "outputs": [],
   "source": [
    "For Loops and Conditional Logic:\n",
    "\n",
    "9. Numbers Having 3 as \n",
    "Ask the user for start and end, and print all numbers that contain the digit 3.\n",
    "\n",
    "Example: 1–40 → 3, 13, 23, 30–39\n"
   ]
  },
  {
   "cell_type": "code",
   "execution_count": null,
   "id": "38cd7cd0-0f8d-47ac-809f-289c781366f2",
   "metadata": {},
   "outputs": [],
   "source": [
    "For Loops and Conditional Logic:\n",
    "\n",
    "9. Numbers Having 3 as \n",
    "Ask the user for start and end, and print all numbers that contain the digit 3.\n",
    "\n",
    "Example: 1–40 → 3, 13, 23, 30–39\n"
   ]
  },
  {
   "cell_type": "code",
   "execution_count": null,
   "id": "ad7ec45d-d249-4e7e-be68-1766407957c5",
   "metadata": {},
   "outputs": [],
   "source": [
    "For Loops and Conditional Logic:\n",
    "\n",
    "9. Numbers Having 3 as \n",
    "Ask the user for start and end, and print all numbers that contain the digit 3.\n",
    "\n",
    "Example: 1–40 → 3, 13, 23, 30–39\n"
   ]
  },
  {
   "cell_type": "code",
   "execution_count": null,
   "id": "8c764685-f66b-46a9-8d4c-7559646b8aa0",
   "metadata": {},
   "outputs": [],
   "source": [
    "For Loops and Conditional Logic:\n",
    "\n",
    "9. Numbers Having 3 as \n",
    "Ask the user for start and end, and print all numbers that contain the digit 3.\n",
    "\n",
    "Example: 1–40 → 3, 13, 23, 30–39\n"
   ]
  },
  {
   "cell_type": "code",
   "execution_count": null,
   "id": "3901186c-0d45-4ec5-9d89-5592c1f9b1b8",
   "metadata": {},
   "outputs": [],
   "source": [
    "For Loops and Conditional Logic:\n",
    "\n",
    "9. Numbers Having 3 as \n",
    "Ask the user for start and end, and print all numbers that contain the digit 3.\n",
    "\n",
    "Example: 1–40 → 3, 13, 23, 30–39\n"
   ]
  },
  {
   "cell_type": "code",
   "execution_count": null,
   "id": "31d05378-96f1-480e-8aaa-49c72f1f3074",
   "metadata": {},
   "outputs": [],
   "source": [
    "For Loops and Conditional Logic:\n",
    "\n",
    "9. Numbers Having 3 as \n",
    "Ask the user for start and end, and print all numbers that contain the digit 3.\n",
    "\n",
    "Example: 1–40 → 3, 13, 23, 30–39\n"
   ]
  },
  {
   "cell_type": "code",
   "execution_count": null,
   "id": "feaebc7f-8dcc-4549-887b-f50ff343ec1e",
   "metadata": {},
   "outputs": [],
   "source": [
    "For Loops and Conditional Logic:\n",
    "\n",
    "9. Numbers Having 3 as \n",
    "Ask the user for start and end, and print all numbers that contain the digit 3.\n",
    "\n",
    "Example: 1–40 → 3, 13, 23, 30–39\n"
   ]
  },
  {
   "cell_type": "code",
   "execution_count": null,
   "id": "1163dc19-be46-4e69-af3c-2a347224c642",
   "metadata": {},
   "outputs": [],
   "source": [
    "For Loops and Conditional Logic:\n",
    "\n",
    "9. Numbers Having 3 as \n",
    "Ask the user for start and end, and print all numbers that contain the digit 3.\n",
    "\n",
    "Example: 1–40 → 3, 13, 23, 30–39\n"
   ]
  },
  {
   "cell_type": "code",
   "execution_count": null,
   "id": "c039fbfe-1d79-4f7d-bf8b-4fa5efb1d662",
   "metadata": {},
   "outputs": [],
   "source": [
    "For Loops and Conditional Logic:\n",
    "\n",
    "9. Numbers Having 3 as \n",
    "Ask the user for start and end, and print all numbers that contain the digit 3.\n",
    "\n",
    "Example: 1–40 → 3, 13, 23, 30–39\n"
   ]
  },
  {
   "cell_type": "code",
   "execution_count": null,
   "id": "12a06c4a-16d2-477a-9663-a7d69f36fdd1",
   "metadata": {},
   "outputs": [],
   "source": [
    "For Loops and Conditional Logic:\n",
    "\n",
    "9. Numbers Having 3 as \n",
    "Ask the user for start and end, and print all numbers that contain the digit 3.\n",
    "\n",
    "Example: 1–40 → 3, 13, 23, 30–39\n"
   ]
  },
  {
   "cell_type": "code",
   "execution_count": null,
   "id": "49027f07-62a5-4591-98a4-b759ffff0432",
   "metadata": {},
   "outputs": [],
   "source": [
    "For Loops and Conditional Logic:\n",
    "\n",
    "9. Numbers Having 3 as \n",
    "Ask the user for start and end, and print all numbers that contain the digit 3.\n",
    "\n",
    "Example: 1–40 → 3, 13, 23, 30–39\n"
   ]
  },
  {
   "cell_type": "code",
   "execution_count": null,
   "id": "2fd62b6d-b7cf-41c7-9c54-42ad904b0454",
   "metadata": {},
   "outputs": [],
   "source": [
    "For Loops and Conditional Logic:\n",
    "\n",
    "9. Numbers Having 3 as \n",
    "Ask the user for start and end, and print all numbers that contain the digit 3.\n",
    "\n",
    "Example: 1–40 → 3, 13, 23, 30–39\n"
   ]
  },
  {
   "cell_type": "code",
   "execution_count": null,
   "id": "b84ff949-bcfc-4c11-99d9-ce018b9297ed",
   "metadata": {},
   "outputs": [],
   "source": [
    "For Loops and Conditional Logic:\n",
    "\n",
    "9. Numbers Having 3 as \n",
    "Ask the user for start and end, and print all numbers that contain the digit 3.\n",
    "\n",
    "Example: 1–40 → 3, 13, 23, 30–39\n"
   ]
  },
  {
   "cell_type": "code",
   "execution_count": null,
   "id": "26ac8497-8e80-4325-994a-dbd94aa3a675",
   "metadata": {},
   "outputs": [],
   "source": [
    "For Loops and Conditional Logic:\n",
    "\n",
    "9. Numbers Having 3 as \n",
    "Ask the user for start and end, and print all numbers that contain the digit 3.\n",
    "\n",
    "Example: 1–40 → 3, 13, 23, 30–39\n"
   ]
  },
  {
   "cell_type": "code",
   "execution_count": null,
   "id": "e492aba0-231c-476d-bf87-2c5bcfe27b7d",
   "metadata": {},
   "outputs": [],
   "source": [
    "For Loops and Conditional Logic:\n",
    "\n",
    "9. Numbers Having 3 as \n",
    "Ask the user for start and end, and print all numbers that contain the digit 3.\n",
    "\n",
    "Example: 1–40 → 3, 13, 23, 30–39\n"
   ]
  },
  {
   "cell_type": "code",
   "execution_count": null,
   "id": "1304fac1-f130-48db-9917-b2883ac227b0",
   "metadata": {},
   "outputs": [],
   "source": [
    "For Loops and Conditional Logic:\n",
    "\n",
    "9. Numbers Having 3 as \n",
    "Ask the user for start and end, and print all numbers that contain the digit 3.\n",
    "\n",
    "Example: 1–40 → 3, 13, 23, 30–39\n"
   ]
  },
  {
   "cell_type": "code",
   "execution_count": null,
   "id": "ddf9419b-f263-419b-b2d8-46e0e560f564",
   "metadata": {},
   "outputs": [],
   "source": [
    "For Loops and Conditional Logic:\n",
    "\n",
    "9. Numbers Having 3 as \n",
    "Ask the user for start and end, and print all numbers that contain the digit 3.\n",
    "\n",
    "Example: 1–40 → 3, 13, 23, 30–39\n"
   ]
  },
  {
   "cell_type": "code",
   "execution_count": null,
   "id": "173a8e90-a180-406a-aa0d-886bf7b58415",
   "metadata": {},
   "outputs": [],
   "source": [
    "For Loops and Conditional Logic:\n",
    "\n",
    "9. Numbers Having 3 as \n",
    "Ask the user for start and end, and print all numbers that contain the digit 3.\n",
    "\n",
    "Example: 1–40 → 3, 13, 23, 30–39\n"
   ]
  },
  {
   "cell_type": "code",
   "execution_count": null,
   "id": "cc6684e2-aea9-4cdf-bf9a-b52aaa251e89",
   "metadata": {},
   "outputs": [],
   "source": []
  }
 ],
 "metadata": {
  "kernelspec": {
   "display_name": "Python [conda env:anaconda3]",
   "language": "python",
   "name": "conda-env-anaconda3-py"
  },
  "language_info": {
   "codemirror_mode": {
    "name": "ipython",
    "version": 3
   },
   "file_extension": ".py",
   "mimetype": "text/x-python",
   "name": "python",
   "nbconvert_exporter": "python",
   "pygments_lexer": "ipython3",
   "version": "3.13.5"
  }
 },
 "nbformat": 4,
 "nbformat_minor": 5
}
